{
 "cells": [
  {
   "cell_type": "markdown",
   "metadata": {},
   "source": [
    ".[juptyer logo.png](download.png)\n",
    "![juptyer logo.png](download.png)\n",
    "<img src=\"download.png\" style=\"float.left\">[juptyer logo.png](download.png)\n",
    "\n",
    "\n",
    "- .[-]. option 1\n",
    "- .[-]. option 2\n",
    "- .[x]. option 3\n",
    "\n",
    "I get 10 times more traffic from [Google] [1] than from\n",
    "[Yahoo] [2] or [MSN] [3].\n",
    "\n",
    "  [1]: http://google.com/        \"Google\"\n",
    "  [2]: http://search.yahoo.com/  \"Yahoo Search\"\n",
    "  [3]: http://search.msn.com/    \"MSN Search\"\n",
    "  \n",
    "\n",
    "`printf(\"hello\")`\n",
    "\n",
    "<https:google.com>\n",
    "\n",
    "\n",
    "<markdwon@google.com>\n"
   ]
  },
  {
   "cell_type": "code",
   "execution_count": null,
   "metadata": {},
   "outputs": [],
   "source": []
  },
  {
   "cell_type": "markdown",
   "metadata": {},
   "source": [
    "### Python Basics\n",
    "\n",
    "python version 3.7\n",
    "\n",
    "- scripting\n",
    "- Object Oriented\n",
    "- Fuctional"
   ]
  },
  {
   "cell_type": "code",
   "execution_count": 3,
   "metadata": {},
   "outputs": [
    {
     "name": "stdout",
     "output_type": "stream",
     "text": [
      "Good Afternoon  !  Hello python\n"
     ]
    }
   ],
   "source": [
    "#python comments\n",
    "\n",
    "print(\"Good Afternoon\",\" ! \",end=\" \")# basic output\n",
    "print(\"Hello python\")"
   ]
  },
  {
   "cell_type": "code",
   "execution_count": null,
   "metadata": {},
   "outputs": [],
   "source": [
    "\n"
   ]
  },
  {
   "cell_type": "markdown",
   "metadata": {},
   "source": [
    "### Assignment\n"
   ]
  },
  {
   "cell_type": "code",
   "execution_count": 11,
   "metadata": {},
   "outputs": [
    {
     "name": "stdout",
     "output_type": "stream",
     "text": [
      "123 234 345\n"
     ]
    },
    {
     "data": {
      "text/plain": [
       "345"
      ]
     },
     "execution_count": 11,
     "metadata": {},
     "output_type": "execute_result"
    }
   ],
   "source": [
    "n1=123456 #single variable assignment\n",
    "\n",
    "n2=n3=n4=n1 #multi variable assignment of the single value\n",
    "\n",
    "# multi varaiable Assignment with different valuec\n",
    "a,b,c=123,234,345\n",
    "\n",
    "print(a,b,c)\n",
    "\n",
    "\n",
    "c\n"
   ]
  },
  {
   "cell_type": "code",
   "execution_count": null,
   "metadata": {},
   "outputs": [],
   "source": []
  },
  {
   "cell_type": "markdown",
   "metadata": {},
   "source": [
    "### Datatypes and DataTypeConversions\n",
    "- int\n",
    "- float\n",
    "- string"
   ]
  },
  {
   "cell_type": "code",
   "execution_count": null,
   "metadata": {},
   "outputs": [],
   "source": [
    "type(a)\n",
    "s1=\"python\"\n",
    "type(s1)\n",
    "\n",
    "\n",
    "f1=12.2345\n",
    "type(f1)\n",
    "\n",
    "float(str(int(f1)))"
   ]
  },
  {
   "cell_type": "code",
   "execution_count": null,
   "metadata": {},
   "outputs": [],
   "source": []
  },
  {
   "cell_type": "markdown",
   "metadata": {},
   "source": [
    "\n"
   ]
  },
  {
   "cell_type": "markdown",
   "metadata": {},
   "source": [
    "### Arthematic Operations\n",
    "- +\n",
    "- -\n",
    "- *\n",
    "- /\n",
    "- %\n",
    "- **"
   ]
  },
  {
   "cell_type": "code",
   "execution_count": 24,
   "metadata": {},
   "outputs": [
    {
     "data": {
      "text/plain": [
       "str"
      ]
     },
     "execution_count": 24,
     "metadata": {},
     "output_type": "execute_result"
    }
   ],
   "source": [
    "n1%11\n",
    "n3=n2 ** 123456\n",
    "type(n3)\n",
    "len(str(n3))\n",
    "atoms=10**82\n",
    "len(str(atoms))\n",
    "atoms\n",
    "type(str(atoms))\n"
   ]
  },
  {
   "cell_type": "code",
   "execution_count": null,
   "metadata": {},
   "outputs": [],
   "source": []
  },
  {
   "cell_type": "markdown",
   "metadata": {},
   "source": [
    "###  Conditionals\n"
   ]
  },
  {
   "cell_type": "code",
   "execution_count": null,
   "metadata": {},
   "outputs": [],
   "source": []
  },
  {
   "cell_type": "markdown",
   "metadata": {},
   "source": [
    "### Conditionals"
   ]
  },
  {
   "cell_type": "code",
   "execution_count": 40,
   "metadata": {},
   "outputs": [
    {
     "name": "stdout",
     "output_type": "stream",
     "text": [
      "False\n"
     ]
    }
   ],
   "source": [
    "if atoms < 10 **9:\n",
    "    print(\"True\")\n",
    "else:\n",
    "    print(\"False\")"
   ]
  },
  {
   "cell_type": "code",
   "execution_count": 41,
   "metadata": {},
   "outputs": [
    {
     "name": "stdout",
     "output_type": "stream",
     "text": [
      "odd\n"
     ]
    }
   ],
   "source": [
    "# check if a number is even\n",
    "n=123\n",
    "if n%2==0:\n",
    "    print(\"Even\")\n",
    "else:\n",
    "    print(\"odd\")\n",
    "    \n"
   ]
  },
  {
   "cell_type": "code",
   "execution_count": 1,
   "metadata": {},
   "outputs": [
    {
     "name": "stdout",
     "output_type": "stream",
     "text": [
      "Enter the First number12\n",
      "enter the second number13\n",
      "enter the third number15\n",
      "15 is the greatest\n"
     ]
    }
   ],
   "source": [
    "# find the greatest of three numbers\n",
    "n1=int(input(\"Enter the First number\"))\n",
    "n2=int(input(\"enter the second number\"))\n",
    "n3=int(input(\"enter the third number\"))\n",
    "if n1>n2 and n1>n3:\n",
    "    print(n1,\"is the greatest\")\n",
    "elif n2>n3:\n",
    "    print(n2,\"is the greatest\")\n",
    "else:\n",
    "    print(n3,\"is the greatest\")"
   ]
  },
  {
   "cell_type": "code",
   "execution_count": 3,
   "metadata": {},
   "outputs": [
    {
     "name": "stdout",
     "output_type": "stream",
     "text": [
      "Enter the year1989\n",
      "non leapyear\n"
     ]
    }
   ],
   "source": [
    "# leapyear\n",
    "year=int(input(\"Enter the year\"))\n",
    "if((year%400==0)or(year%100==0 and year%4==0)):\n",
    "   print(\"leapyear\")\n",
    "else:\n",
    "   print(\"non leapyear\")"
   ]
  },
  {
   "cell_type": "code",
   "execution_count": 5,
   "metadata": {},
   "outputs": [
    {
     "name": "stdout",
     "output_type": "stream",
     "text": [
      "Enter the lowr bound value12\n",
      "enter upper bound23\n",
      "enter the number16\n",
      "with in the range \n"
     ]
    }
   ],
   "source": [
    "# check if the a number exists in a given range(inclusive)\n",
    "lower=int(input(\"Enter the lowr bound value\"))\n",
    "upper=int(input(\"enter upper bound\"))\n",
    "n1=int(input(\"enter the number\"))\n",
    "if(n1>=lower and n1<=upper):\n",
    "    print(\"with in the range \")\n",
    "else:\n",
    "    print(\"not in range\")\n"
   ]
  },
  {
   "cell_type": "code",
   "execution_count": 6,
   "metadata": {},
   "outputs": [
    {
     "name": "stdout",
     "output_type": "stream",
     "text": [
      "enter a number65\n",
      "not multiple of 10\n"
     ]
    }
   ],
   "source": [
    "# check if a number is a multiple of 10\n",
    "num=int(input(\"enter a number\"))\n",
    "if(num%10==0):\n",
    "    print(\"the number is multiple of 10\")\n",
    "else:\n",
    "    print(\"not multiple of 10\")"
   ]
  },
  {
   "cell_type": "code",
   "execution_count": 19,
   "metadata": {},
   "outputs": [
    {
     "name": "stdout",
     "output_type": "stream",
     "text": [
      "enter a number900\n",
      "not\n"
     ]
    }
   ],
   "source": [
    "#check if a number is factor of 1000\n",
    "num=int(input(\"enter a number\"))\n",
    "if(1000%num==0):\n",
    "    print(\"the number is factor of 1000\")\n",
    "else:\n",
    "    print(\"not\")"
   ]
  },
  {
   "cell_type": "code",
   "execution_count": 17,
   "metadata": {},
   "outputs": [
    {
     "name": "stdout",
     "output_type": "stream",
     "text": [
      "enter a year2016\n",
      "nanoseconds= 31536000000000000\n"
     ]
    }
   ],
   "source": [
    "# calculate no of nano seconds in a given year\n",
    "year=int(input(\"enter a year\"))\n",
    "if((year%400==0)or(year%100==0 and year%4==0)):\n",
    "    print(\"nanoseconds= %d\" %(24*60*60*366*(10**9)))\n",
    "else:\n",
    "    print(\"nanoseconds= %d\" %(24*60*60*365*(10**9)))"
   ]
  },
  {
   "cell_type": "code",
   "execution_count": 10,
   "metadata": {},
   "outputs": [
    {
     "data": {
      "text/plain": [
       "8760000000000"
      ]
     },
     "execution_count": 10,
     "metadata": {},
     "output_type": "execute_result"
    }
   ],
   "source": [
    "nanoseconds\n"
   ]
  },
  {
   "cell_type": "code",
   "execution_count": null,
   "metadata": {},
   "outputs": [],
   "source": []
  }
 ],
 "metadata": {
  "kernelspec": {
   "display_name": "Python 3",
   "language": "python",
   "name": "python3"
  },
  "language_info": {
   "codemirror_mode": {
    "name": "ipython",
    "version": 3
   },
   "file_extension": ".py",
   "mimetype": "text/x-python",
   "name": "python",
   "nbconvert_exporter": "python",
   "pygments_lexer": "ipython3",
   "version": "3.7.3"
  }
 },
 "nbformat": 4,
 "nbformat_minor": 2
}
