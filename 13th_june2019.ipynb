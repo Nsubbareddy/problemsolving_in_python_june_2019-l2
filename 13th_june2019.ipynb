{
 "cells": [
  {
   "cell_type": "code",
   "execution_count": 1,
   "metadata": {},
   "outputs": [],
   "source": [
    "# Function to generate product of all factorials of a given range"
   ]
  },
  {
   "cell_type": "code",
   "execution_count": 2,
   "metadata": {},
   "outputs": [],
   "source": [
    "#Funtion to generate N odd armstrong numbers in a given range"
   ]
  },
  {
   "cell_type": "code",
   "execution_count": 3,
   "metadata": {},
   "outputs": [],
   "source": [
    "#Function to generate multiplication table for a number in given range\n",
    "       # 10min the range(101,102)\n",
    "       # 10 x 100=10000\n",
    "     "
   ]
  },
  {
   "cell_type": "code",
   "execution_count": 12,
   "metadata": {},
   "outputs": [
    {
     "name": "stdout",
     "output_type": "stream",
     "text": [
      "500 501 502 503 504 505 506 507 508 509 510 511 512 513 514 515 516 517 518 519 520 521 522 523 524 525 "
     ]
    }
   ],
   "source": [
    "#### For loop in python\n",
    "def alternatevalues(start,end):\n",
    "    for i in range(start,end+1,1):\n",
    "        print(i,end =\" \")\n",
    "    return \n",
    "alternatevalues(500,525)"
   ]
  },
  {
   "cell_type": "code",
   "execution_count": 7,
   "metadata": {},
   "outputs": [
    {
     "name": "stdout",
     "output_type": "stream",
     "text": [
      "10 9 8 7 6 5 4 3 2 1 "
     ]
    }
   ],
   "source": [
    "# Function to print reverse of given range in the string\n",
    "def reverse(start,end):\n",
    "    for i in range(end,start-1,-1):\n",
    "        print(i,end=\" \")\n",
    "    return\n",
    "reverse(1,10)\n",
    "    "
   ]
  },
  {
   "cell_type": "code",
   "execution_count": 13,
   "metadata": {},
   "outputs": [
    {
     "name": "stdout",
     "output_type": "stream",
     "text": [
      "9 7 5 3 1 "
     ]
    }
   ],
   "source": [
    "# odd number in revers order in range\n",
    "def oddnumberreverse(start,end):\n",
    "    for i in range(end,start-1,-1):\n",
    "        if(i%2!=0):\n",
    "            print(i,end = \" \")\n",
    "            \n",
    "    return\n",
    "oddnumberreverse(1,10)"
   ]
  },
  {
   "cell_type": "code",
   "execution_count": 19,
   "metadata": {},
   "outputs": [
    {
     "data": {
      "text/plain": [
       "55"
      ]
     },
     "execution_count": 19,
     "metadata": {},
     "output_type": "execute_result"
    }
   ],
   "source": [
    "# sum of numbers in a range\n",
    "def sumofallnumbers(start,end):\n",
    "    sum = 0\n",
    "    for i in range(start,end):\n",
    "        sum += i\n",
    "    return sum\n",
    "\n",
    "sumofallnumbers(1,11)\n",
    "        \n"
   ]
  },
  {
   "cell_type": "code",
   "execution_count": 2,
   "metadata": {},
   "outputs": [
    {
     "data": {
      "text/plain": [
       "3000.0"
      ]
     },
     "execution_count": 2,
     "metadata": {},
     "output_type": "execute_result"
    }
   ],
   "source": [
    "#Function to calculate average of given range\n",
    "def averageofrange(start,end):\n",
    "    sum = 0\n",
    "    count = 0\n",
    "    for i in range(start,end+1):\n",
    "        sum += i\n",
    "        count += 1\n",
    "    avg=sum/count\n",
    "    \n",
    "    return avg\n",
    "\n",
    "averageofrange(1000,5000)\n"
   ]
  },
  {
   "cell_type": "code",
   "execution_count": 3,
   "metadata": {},
   "outputs": [
    {
     "ename": "IndentationError",
     "evalue": "expected an indented block (<ipython-input-3-ff8a7be9eb0e>, line 4)",
     "output_type": "error",
     "traceback": [
      "\u001b[1;36m  File \u001b[1;32m\"<ipython-input-3-ff8a7be9eb0e>\"\u001b[1;36m, line \u001b[1;32m4\u001b[0m\n\u001b[1;33m    if(year%400==0 or (year%100!=0 and year%4==0)):\u001b[0m\n\u001b[1;37m     ^\u001b[0m\n\u001b[1;31mIndentationError\u001b[0m\u001b[1;31m:\u001b[0m expected an indented block\n"
     ]
    }
   ],
   "source": [
    "    #Function to generate all the leap year in a given time period\n",
    "    #2000 to 2020 --> 2000 2004 2008 2012 2016 2010   \n",
    "def isleapyear(year):\n",
    "    if(year%400==0 or (year%100!=0 and year%4==0)):\n",
    "        return True\n",
    "    return False           \n",
    "def genleapyear(start,endyear):\n",
    "    for year in range(start,endyear+1):\n",
    "        if isleapyear(year):\n",
    "            print(year,end = \" \")\n",
    "    return\n",
    "genleapyear(2000,2020)"
   ]
  },
  {
   "cell_type": "code",
   "execution_count": 7,
   "metadata": {},
   "outputs": [
    {
     "data": {
      "text/plain": [
       "365"
      ]
     },
     "execution_count": 7,
     "metadata": {},
     "output_type": "execute_result"
    }
   ],
   "source": [
    "#calcultae no of days\n",
    "# For every year in the given timeperiod,if the year is not a leap year add 365 to sum else 366 to sum\n",
    "def noofdays(year):\n",
    "    sum=0\n",
    "    if(isleapyear(year)):\n",
    "        sum+=366\n",
    "        print(sum)\n",
    "    else:\n",
    "        sum+=365\n",
    "    return sum\n",
    "noofdays(2019)\n"
   ]
  },
  {
   "cell_type": "code",
   "execution_count": 28,
   "metadata": {},
   "outputs": [
    {
     "data": {
      "text/plain": [
       "10272"
      ]
     },
     "execution_count": 28,
     "metadata": {},
     "output_type": "execute_result"
    }
   ],
   "source": [
    "#function to calculate no of hours\n",
    "def isleapyear(year):\n",
    "    if(year%400==0 or (year%100!=0 and year%4==0)):\n",
    "        return True\n",
    "    return False \n",
    "\n",
    "def noofdays(month,year):\n",
    "    if isleapyear(year):\n",
    "        if isleapyear(year):\n",
    "            return 29\n",
    "        return 28\n",
    "    elif (month<=7 and month%2!=0)or(month>=8 and month%2==0):\n",
    "        return 31\n",
    "    else:\n",
    "        return 30\n",
    "def daysinstartyear(startmonth,startyear):\n",
    "    days=0\n",
    "    for month in range(startmonth,13):\n",
    "        days+=noofdays(month,startyear)\n",
    "    return days\n",
    "def daysinenyear(endmonth,endyear):\n",
    "    days=0\n",
    "    for month in range(1,endmonth+1):\n",
    "        days=days+noofdays(month,endyear)\n",
    "    return days\n",
    "def noofhours(startmonth,startyear,endmonth,endyear):\n",
    "    days=0\n",
    "    days+=daysinstartyear(startmonth,startyear)\n",
    "    days+=daysinenyear(endmonth,endyear)\n",
    "    if endyear-startyear==1:\n",
    "        days+=noofdays(startyear+1,startyear+1)\n",
    "    elif endyear-startyear>2:\n",
    "        days+=noofdays(startyear+1,endyear-1)\n",
    "    return 24*days\n",
    "noofhours(11,2019,12,2019)\n",
    "    \n",
    "    "
   ]
  },
  {
   "cell_type": "code",
   "execution_count": 27,
   "metadata": {},
   "outputs": [
    {
     "name": "stdout",
     "output_type": "stream",
     "text": [
      "2000 2004 2008 2012 2016 2020 "
     ]
    }
   ],
   "source": [
    "def isleapyear(year):\n",
    "    if(year%400==0 or (year%100!=0 and year%4==0)):\n",
    "        return True\n",
    "    return False \n",
    "def genleapyear(start,endyear):\n",
    "    for year in range(start,endyear+1):\n",
    "        if isleapyear(year):\n",
    "            print(year,end = \" \")\n",
    "    return\n",
    "genleapyear(2000,2020)"
   ]
  },
  {
   "cell_type": "code",
   "execution_count": 4,
   "metadata": {},
   "outputs": [
    {
     "name": "stdout",
     "output_type": "stream",
     "text": [
      "Enter any number: 10\n",
      "The number is not a Perfect number!\n"
     ]
    }
   ],
   "source": [
    "n = int(input(\"Enter any number: \"))\n",
    "sum1 = 0\n",
    "for i in range(1, n):\n",
    "    if(n % i == 0):\n",
    "        sum1 = sum1 + i\n",
    "if (sum1 == n):\n",
    "    print(\"The number is a Perfect number!\")\n",
    "else:\n",
    "    print(\"The number is not a Perfect number!\")"
   ]
  },
  {
   "cell_type": "code",
   "execution_count": 6,
   "metadata": {},
   "outputs": [
    {
     "name": "stdout",
     "output_type": "stream",
     "text": [
      "Below are all perfect numbers till 10000\n",
      "enter range1234\n",
      "6  is a perfect number\n",
      "28  is a perfect number\n",
      "496  is a perfect number\n"
     ]
    }
   ],
   "source": [
    "def isPerfect( n ): \n",
    "      \n",
    "    # To store sum of divisors \n",
    "    sum = 1\n",
    "      \n",
    "    # Find all divisors and add them \n",
    "    i = 2\n",
    "    while i * i <= n: \n",
    "        if n % i == 0: \n",
    "            sum = sum + i + n/i \n",
    "        i += 1\n",
    "      \n",
    "    # If sum of divisors is equal to \n",
    "    # n, then n is a perfect number \n",
    "      \n",
    "    return (True if sum == n and n!=1 else False) \n",
    "  \n",
    "# Driver program \n",
    "print(\"Below are all perfect numbers till 10000\") \n",
    "n = 2\n",
    "for n in range (int(input(\"enter range\"))): \n",
    "    if isPerfect (n): \n",
    "        print(n , \" is a perfect number\")"
   ]
  },
  {
   "cell_type": "code",
   "execution_count": null,
   "metadata": {},
   "outputs": [],
   "source": [
    "# perfect number in the range\n",
    "def isPerfect( n ): \n",
    "      \n",
    "    # To store sum of divisors \n",
    "    sum = 1\n",
    "      \n",
    "    # Find all divisors and add them \n",
    "    i = 2\n",
    "    while i * i <= n: \n",
    "        if n % i == 0: \n",
    "            sum = sum + i + n/i \n",
    "        i += 1\n",
    "      \n",
    "    # If sum of divisors is equal to \n",
    "    # n, then n is a perfect number \n",
    "      \n",
    "    return (True if sum == n and n!=1 else False) \n",
    "  \n",
    "# Driver program \n",
    "print(\"Below are all perfect numbers till 10000\") \n",
    "n = 2\n",
    "for n in range (int(input(\"enter range\"))): \n",
    "    if isPerfect (n): \n",
    "        print(n , \" is a perfect number\")"
   ]
  },
  {
   "cell_type": "code",
   "execution_count": 9,
   "metadata": {},
   "outputs": [
    {
     "name": "stdout",
     "output_type": "stream",
     "text": [
      "6\n",
      "28\n",
      "496\n"
     ]
    }
   ],
   "source": [
    "# perfect number in range\n",
    "def perfectnumber(start,end):\n",
    "    for i in range (start,end+1):\n",
    "        sum=0\n",
    "        for x in range(1,i):\n",
    "            if(i%x==0):\n",
    "                sum+=x\n",
    "        if(sum==i):\n",
    "            print(i)\n",
    "perfectnumber(2,1000)\n",
    "                \n",
    "                "
   ]
  },
  {
   "cell_type": "code",
   "execution_count": 10,
   "metadata": {},
   "outputs": [
    {
     "ename": "NameError",
     "evalue": "name 'isleapyear' is not defined",
     "output_type": "error",
     "traceback": [
      "\u001b[1;31m---------------------------------------------------------------------------\u001b[0m",
      "\u001b[1;31mNameError\u001b[0m                                 Traceback (most recent call last)",
      "\u001b[1;32m<ipython-input-10-0113bd4be5ce>\u001b[0m in \u001b[0;36m<module>\u001b[1;34m\u001b[0m\n\u001b[0;32m      8\u001b[0m        \u001b[1;32mreturn\u001b[0m \u001b[1;32mFalse\u001b[0m\u001b[1;33m\u001b[0m\u001b[1;33m\u001b[0m\u001b[0m\n\u001b[0;32m      9\u001b[0m    \u001b[0mprint\u001b[0m\u001b[1;33m(\u001b[0m\u001b[0myear\u001b[0m\u001b[1;33m,\u001b[0m \u001b[0mend\u001b[0m \u001b[1;33m=\u001b[0m\u001b[1;34m\" \"\u001b[0m\u001b[1;33m)\u001b[0m\u001b[1;33m\u001b[0m\u001b[1;33m\u001b[0m\u001b[0m\n\u001b[1;32m---> 10\u001b[1;33m \u001b[0mnoofdays\u001b[0m\u001b[1;33m(\u001b[0m\u001b[1;36m2000\u001b[0m\u001b[1;33m,\u001b[0m\u001b[1;36m2020\u001b[0m\u001b[1;33m)\u001b[0m\u001b[1;33m\u001b[0m\u001b[1;33m\u001b[0m\u001b[0m\n\u001b[0m",
      "\u001b[1;32m<ipython-input-10-0113bd4be5ce>\u001b[0m in \u001b[0;36mnoofdays\u001b[1;34m(startyear, endyear)\u001b[0m\n\u001b[0;32m      2\u001b[0m    \u001b[0msum\u001b[0m\u001b[1;33m=\u001b[0m\u001b[1;36m0\u001b[0m\u001b[1;33m\u001b[0m\u001b[1;33m\u001b[0m\u001b[0m\n\u001b[0;32m      3\u001b[0m    \u001b[1;32mfor\u001b[0m \u001b[0myear\u001b[0m \u001b[1;32min\u001b[0m \u001b[0mrange\u001b[0m \u001b[1;33m(\u001b[0m\u001b[0mstartyear\u001b[0m\u001b[1;33m,\u001b[0m\u001b[0mendyear\u001b[0m\u001b[1;33m+\u001b[0m\u001b[1;36m1\u001b[0m\u001b[1;33m)\u001b[0m\u001b[1;33m:\u001b[0m\u001b[1;33m\u001b[0m\u001b[1;33m\u001b[0m\u001b[0m\n\u001b[1;32m----> 4\u001b[1;33m        \u001b[1;32mif\u001b[0m \u001b[0misleapyear\u001b[0m\u001b[1;33m(\u001b[0m\u001b[0myear\u001b[0m\u001b[1;33m)\u001b[0m\u001b[1;33m:\u001b[0m\u001b[1;33m\u001b[0m\u001b[1;33m\u001b[0m\u001b[0m\n\u001b[0m\u001b[0;32m      5\u001b[0m            \u001b[0msum\u001b[0m\u001b[1;33m=\u001b[0m\u001b[1;33m(\u001b[0m\u001b[0msum\u001b[0m\u001b[1;33m+\u001b[0m\u001b[1;33m(\u001b[0m\u001b[1;36m366\u001b[0m\u001b[1;33m*\u001b[0m\u001b[1;36m7\u001b[0m\u001b[1;33m)\u001b[0m\u001b[1;33m)\u001b[0m\u001b[1;33m\u001b[0m\u001b[1;33m\u001b[0m\u001b[0m\n\u001b[0;32m      6\u001b[0m            \u001b[1;32mreturn\u001b[0m \u001b[1;32mTrue\u001b[0m\u001b[1;33m\u001b[0m\u001b[1;33m\u001b[0m\u001b[0m\n",
      "\u001b[1;31mNameError\u001b[0m: name 'isleapyear' is not defined"
     ]
    }
   ],
   "source": [
    "def noofdays(startyear,endyear):\n",
    "   sum = 0\n",
    "   for year in range (startyear,endyear+1):\n",
    "       if isleapyear(year):\n",
    "           sum=(sum+(366*7))\n",
    "           return True\n",
    "           sum=sum+(365*7)\n",
    "       return False\n",
    "   print(year, end =\" \")\n",
    "noofdays(2000,2020)"
   ]
  },
  {
   "cell_type": "code",
   "execution_count": null,
   "metadata": {},
   "outputs": [],
   "source": []
  },
  {
   "cell_type": "code",
   "execution_count": null,
   "metadata": {},
   "outputs": [],
   "source": []
  },
  {
   "cell_type": "code",
   "execution_count": null,
   "metadata": {},
   "outputs": [],
   "source": []
  }
 ],
 "metadata": {
  "kernelspec": {
   "display_name": "Python 3",
   "language": "python",
   "name": "python3"
  },
  "language_info": {
   "codemirror_mode": {
    "name": "ipython",
    "version": 3
   },
   "file_extension": ".py",
   "mimetype": "text/x-python",
   "name": "python",
   "nbconvert_exporter": "python",
   "pygments_lexer": "ipython3",
   "version": "3.7.3"
  }
 },
 "nbformat": 4,
 "nbformat_minor": 2
}
