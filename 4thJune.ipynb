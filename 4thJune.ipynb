{
 "cells": [
  {
   "cell_type": "markdown",
   "metadata": {},
   "source": [
    "### Print prime numbers up to given range. --> input: 10 output: 2 3 5 7\n"
   ]
  },
  {
   "cell_type": "code",
   "execution_count": 14,
   "metadata": {},
   "outputs": [
    {
     "name": "stdout",
     "output_type": "stream",
     "text": [
      "Enter upper limit: 50\n",
      "2 3 4 5 7 11 13 17 19 23 29 31 37 41 43 47 "
     ]
    }
   ],
   "source": [
    "r=int(input(\"Enter upper limit: \"))\n",
    "def primerange(r):\n",
    "    for a in range(2,r+1):\n",
    "        k=0\n",
    "        for i in range(2,a//2+1):\n",
    "            if(a%i==0):\n",
    "                k=k+1\n",
    "        if(k<=0):\n",
    "            print(a,end=\" \")\n",
    "primerange(r)"
   ]
  },
  {
   "cell_type": "code",
   "execution_count": 13,
   "metadata": {},
   "outputs": [
    {
     "name": "stdout",
     "output_type": "stream",
     "text": [
      "Enter upper limit: 50\n",
      "2 3 5 7 11 13 17 19 23 29 31 37 41 43 47 "
     ]
    }
   ],
   "source": [
    "r=int(input(\"Enter upper limit: \"))\n",
    "for a in range(2,r+1):\n",
    "    k=0\n",
    "    for i in range(2,a//2+1):\n",
    "        if(a%i==0):\n",
    "            k=k+1\n",
    "    if(k<=0):\n",
    "        print(a,end=\" \")"
   ]
  },
  {
   "cell_type": "code",
   "execution_count": null,
   "metadata": {},
   "outputs": [],
   "source": []
  }
 ],
 "metadata": {
  "kernelspec": {
   "display_name": "Python 3",
   "language": "python",
   "name": "python3"
  },
  "language_info": {
   "codemirror_mode": {
    "name": "ipython",
    "version": 3
   },
   "file_extension": ".py",
   "mimetype": "text/x-python",
   "name": "python",
   "nbconvert_exporter": "python",
   "pygments_lexer": "ipython3",
   "version": "3.7.3"
  }
 },
 "nbformat": 4,
 "nbformat_minor": 2
}
