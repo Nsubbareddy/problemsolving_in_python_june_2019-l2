{
 "cells": [
  {
   "cell_type": "markdown",
   "metadata": {},
   "source": [
    ".[juptyer logo.png](download.png)\n",
    "![juptyer logo.png](download.png)\n",
    "<img src=\"download.png\" style=\"float.left\">[juptyer logo.png](download.png)\n",
    "\n",
    "\n",
    "- .[-]. option 1\n",
    "- .[-]. option 2\n",
    "- .[x]. option 3\n"
   ]
  },
  {
   "cell_type": "code",
   "execution_count": null,
   "metadata": {},
   "outputs": [],
   "source": []
  }
 ],
 "metadata": {
  "kernelspec": {
   "display_name": "Python 3",
   "language": "python",
   "name": "python3"
  },
  "language_info": {
   "codemirror_mode": {
    "name": "ipython",
    "version": 3
   },
   "file_extension": ".py",
   "mimetype": "text/x-python",
   "name": "python",
   "nbconvert_exporter": "python",
   "pygments_lexer": "ipython3",
   "version": "3.7.3"
  }
 },
 "nbformat": 4,
 "nbformat_minor": 2
}
